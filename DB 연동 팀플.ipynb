{
 "cells": [
  {
   "cell_type": "code",
   "execution_count": 1,
   "id": "39df81ce",
   "metadata": {},
   "outputs": [
    {
     "name": "stdout",
     "output_type": "stream",
     "text": [
      "Requirement already satisfied: oracledb in c:\\users\\user18\\anaconda3\\lib\\site-packages (1.3.0)\n",
      "Requirement already satisfied: cryptography>=3.2.1 in c:\\users\\user18\\anaconda3\\lib\\site-packages (from oracledb) (39.0.1)\n",
      "Requirement already satisfied: cffi>=1.12 in c:\\users\\user18\\anaconda3\\lib\\site-packages (from cryptography>=3.2.1->oracledb) (1.15.1)\n",
      "Requirement already satisfied: pycparser in c:\\users\\user18\\anaconda3\\lib\\site-packages (from cffi>=1.12->cryptography>=3.2.1->oracledb) (2.21)\n"
     ]
    }
   ],
   "source": [
    "! pip install oracledb "
   ]
  },
  {
   "cell_type": "code",
   "execution_count": 22,
   "id": "dd8e60dd",
   "metadata": {},
   "outputs": [],
   "source": [
    "import cx_Oracle\n",
    "\n",
    "connection = cx_Oracle.connect(\"seocho_23SW_CX_siljeon_1/smhrd1@project-db-campus.smhrd.com:1523/xe\")"
   ]
  },
  {
   "cell_type": "code",
   "execution_count": 23,
   "id": "67e4e69a",
   "metadata": {},
   "outputs": [],
   "source": [
    "cursor = connection.cursor()"
   ]
  },
  {
   "cell_type": "code",
   "execution_count": 24,
   "id": "f6a23c19",
   "metadata": {},
   "outputs": [],
   "source": [
    "import numpy as np\n",
    "import pandas as pd\n",
    "import matplotlib.pyplot as pltx"
   ]
  },
  {
   "cell_type": "code",
   "execution_count": 28,
   "id": "372c9243",
   "metadata": {
    "scrolled": true
   },
   "outputs": [
    {
     "data": {
      "text/html": [
       "<div>\n",
       "<style scoped>\n",
       "    .dataframe tbody tr th:only-of-type {\n",
       "        vertical-align: middle;\n",
       "    }\n",
       "\n",
       "    .dataframe tbody tr th {\n",
       "        vertical-align: top;\n",
       "    }\n",
       "\n",
       "    .dataframe thead th {\n",
       "        text-align: right;\n",
       "    }\n",
       "</style>\n",
       "<table border=\"1\" class=\"dataframe\">\n",
       "  <thead>\n",
       "    <tr style=\"text-align: right;\">\n",
       "      <th></th>\n",
       "      <th>Unnamed: 0</th>\n",
       "      <th>제목</th>\n",
       "      <th>기자</th>\n",
       "      <th>작성일</th>\n",
       "      <th>상세정보</th>\n",
       "      <th>이메일</th>\n",
       "    </tr>\n",
       "  </thead>\n",
       "  <tbody>\n",
       "    <tr>\n",
       "      <th>0</th>\n",
       "      <td>0</td>\n",
       "      <td>인텔, 개발자가 어디서나 AI를 구현하도록 지원하는 방안 공개</td>\n",
       "      <td>이형민 기자</td>\n",
       "      <td>2023-09-20 12:03</td>\n",
       "      <td>인텔은 현지시간 19일 연례 개발자 행사인 세번째 인텔 이노베이션(Intel Inn...</td>\n",
       "      <td>Corky@inven.co.kr</td>\n",
       "    </tr>\n",
       "    <tr>\n",
       "      <th>1</th>\n",
       "      <td>1</td>\n",
       "      <td>에이수스(ASUS), ROG Matrix GeForce RTX™ 4090 그래픽카드 출시</td>\n",
       "      <td>이형민 기자</td>\n",
       "      <td>2023-09-20 11:59</td>\n",
       "      <td>글로벌 컴퓨팅 전문 기업 ASUS의 한국 지사인 에이수스 코리아(지사장: 강인석, ...</td>\n",
       "      <td>Corky@inven.co.kr</td>\n",
       "    </tr>\n",
       "    <tr>\n",
       "      <th>2</th>\n",
       "      <td>2</td>\n",
       "      <td>클템&amp;노페, 항저우 아시안게임 LoL 해설 맡는다 [5]</td>\n",
       "      <td>김병호 기자</td>\n",
       "      <td>2023-09-20 11:57</td>\n",
       "      <td>자료제공 - 스포TV\\n\\n‘클템’ 이현우, ‘노페’ 정노철이 스포티비(SPOTV)...</td>\n",
       "      <td>Haao@inven.co.kr</td>\n",
       "    </tr>\n",
       "    <tr>\n",
       "      <th>3</th>\n",
       "      <td>3</td>\n",
       "      <td>로지텍, 프라이버시 셔터 탑재한 Full HD 1080P 웹캠 ‘Brio 100’ 출시</td>\n",
       "      <td>이형민 기자</td>\n",
       "      <td>2023-09-20 11:55</td>\n",
       "      <td>개인용 주변기기 전문기업 로지텍(지사장 조정훈)은 고화질 웹캠 ‘Brio 100’을...</td>\n",
       "      <td>Corky@inven.co.kr</td>\n",
       "    </tr>\n",
       "    <tr>\n",
       "      <th>4</th>\n",
       "      <td>4</td>\n",
       "      <td>한국레노버, ‘이음 5G를 위한 레노버 테크데이’ 성료</td>\n",
       "      <td>이형민 기자</td>\n",
       "      <td>2023-09-20 11:53</td>\n",
       "      <td>한국레노버가 퀄컴코리아와 함께 ‘이음 5G(5G 특화망)를 위한 레노버 테크데이’를...</td>\n",
       "      <td>Corky@inven.co.kr</td>\n",
       "    </tr>\n",
       "    <tr>\n",
       "      <th>...</th>\n",
       "      <td>...</td>\n",
       "      <td>...</td>\n",
       "      <td>...</td>\n",
       "      <td>...</td>\n",
       "      <td>...</td>\n",
       "      <td>...</td>\n",
       "    </tr>\n",
       "    <tr>\n",
       "      <th>395</th>\n",
       "      <td>395</td>\n",
       "      <td>이제 PC로도 즐기자, \\'브라운더스트\\' 스팀 정식 출시 [9]</td>\n",
       "      <td>윤서호 기자</td>\n",
       "      <td>2023-08-31 15:06</td>\n",
       "      <td>㈜네오위즈(공동대표 김승철, 배태근)가 모바일 전략 RPG \\'브라운더스트\\'를 글...</td>\n",
       "      <td>Ruudi@inven.co.kr</td>\n",
       "    </tr>\n",
       "    <tr>\n",
       "      <th>396</th>\n",
       "      <td>396</td>\n",
       "      <td>\\'아키에이지 워\\', 신규 직업 총사 및 직업 교환 시스템 업데이트</td>\n",
       "      <td>윤서호 기자</td>\n",
       "      <td>2023-08-31 15:04</td>\n",
       "      <td>자료제공 - 카카오게임즈\\n\\n\\n㈜카카오게임즈(대표 조계현)는 ㈜엑스엘게임즈(대표...</td>\n",
       "      <td>Ruudi@inven.co.kr</td>\n",
       "    </tr>\n",
       "    <tr>\n",
       "      <th>397</th>\n",
       "      <td>397</td>\n",
       "      <td>액션 어드벤처 \\'트라인5: 시계 장치의 음모\\', PC-스위치로 출시</td>\n",
       "      <td>윤서호 기자</td>\n",
       "      <td>2023-08-31 15:02</td>\n",
       "      <td>자료제공 - 에이치투 인터렉티브\\n\\n\\n㈜에이치투 인터렉티브(이하 H2 INTER...</td>\n",
       "      <td>Ruudi@inven.co.kr</td>\n",
       "    </tr>\n",
       "    <tr>\n",
       "      <th>398</th>\n",
       "      <td>398</td>\n",
       "      <td>미르4, 흑철 경제권을 건 PVP \\'어둠의 제단\\' 업데이트</td>\n",
       "      <td>윤서호 기자</td>\n",
       "      <td>2023-08-31 14:58</td>\n",
       "      <td>자료제공 - 위메이드\\n\\n\\n㈜위메이드(대표 장현국)의 MMORPG &lt;미르4&gt;가 ...</td>\n",
       "      <td>Ruudi@inven.co.kr</td>\n",
       "    </tr>\n",
       "    <tr>\n",
       "      <th>399</th>\n",
       "      <td>399</td>\n",
       "      <td>뉴질랜드 스토리 등 명작 아케이드 수록, \\'타이토 마일스톤2\\' 정식 출시</td>\n",
       "      <td>윤서호 기자</td>\n",
       "      <td>2023-08-31 14:38</td>\n",
       "      <td>자료제공 - 아크시스템웍스 아시아지점\\n\\n\\n아크시스템웍스 아시아지점은 주식회사 ...</td>\n",
       "      <td>Ruudi@inven.co.kr</td>\n",
       "    </tr>\n",
       "  </tbody>\n",
       "</table>\n",
       "<p>400 rows × 6 columns</p>\n",
       "</div>"
      ],
      "text/plain": [
       "     Unnamed: 0                                                 제목      기자  \\\n",
       "0             0                 인텔, 개발자가 어디서나 AI를 구현하도록 지원하는 방안 공개  이형민 기자   \n",
       "1             1  에이수스(ASUS), ROG Matrix GeForce RTX™ 4090 그래픽카드 출시  이형민 기자   \n",
       "2             2                    클템&노페, 항저우 아시안게임 LoL 해설 맡는다 [5]  김병호 기자   \n",
       "3             3   로지텍, 프라이버시 셔터 탑재한 Full HD 1080P 웹캠 ‘Brio 100’ 출시  이형민 기자   \n",
       "4             4                     한국레노버, ‘이음 5G를 위한 레노버 테크데이’ 성료  이형민 기자   \n",
       "..          ...                                                ...     ...   \n",
       "395         395               이제 PC로도 즐기자, \\'브라운더스트\\' 스팀 정식 출시 [9]  윤서호 기자   \n",
       "396         396             \\'아키에이지 워\\', 신규 직업 총사 및 직업 교환 시스템 업데이트  윤서호 기자   \n",
       "397         397            액션 어드벤처 \\'트라인5: 시계 장치의 음모\\', PC-스위치로 출시  윤서호 기자   \n",
       "398         398                 미르4, 흑철 경제권을 건 PVP \\'어둠의 제단\\' 업데이트  윤서호 기자   \n",
       "399         399         뉴질랜드 스토리 등 명작 아케이드 수록, \\'타이토 마일스톤2\\' 정식 출시  윤서호 기자   \n",
       "\n",
       "                  작성일                                               상세정보  \\\n",
       "0    2023-09-20 12:03  인텔은 현지시간 19일 연례 개발자 행사인 세번째 인텔 이노베이션(Intel Inn...   \n",
       "1    2023-09-20 11:59  글로벌 컴퓨팅 전문 기업 ASUS의 한국 지사인 에이수스 코리아(지사장: 강인석, ...   \n",
       "2    2023-09-20 11:57  자료제공 - 스포TV\\n\\n‘클템’ 이현우, ‘노페’ 정노철이 스포티비(SPOTV)...   \n",
       "3    2023-09-20 11:55  개인용 주변기기 전문기업 로지텍(지사장 조정훈)은 고화질 웹캠 ‘Brio 100’을...   \n",
       "4    2023-09-20 11:53  한국레노버가 퀄컴코리아와 함께 ‘이음 5G(5G 특화망)를 위한 레노버 테크데이’를...   \n",
       "..                ...                                                ...   \n",
       "395  2023-08-31 15:06  ㈜네오위즈(공동대표 김승철, 배태근)가 모바일 전략 RPG \\'브라운더스트\\'를 글...   \n",
       "396  2023-08-31 15:04  자료제공 - 카카오게임즈\\n\\n\\n㈜카카오게임즈(대표 조계현)는 ㈜엑스엘게임즈(대표...   \n",
       "397  2023-08-31 15:02  자료제공 - 에이치투 인터렉티브\\n\\n\\n㈜에이치투 인터렉티브(이하 H2 INTER...   \n",
       "398  2023-08-31 14:58  자료제공 - 위메이드\\n\\n\\n㈜위메이드(대표 장현국)의 MMORPG <미르4>가 ...   \n",
       "399  2023-08-31 14:38  자료제공 - 아크시스템웍스 아시아지점\\n\\n\\n아크시스템웍스 아시아지점은 주식회사 ...   \n",
       "\n",
       "                   이메일  \n",
       "0    Corky@inven.co.kr  \n",
       "1    Corky@inven.co.kr  \n",
       "2     Haao@inven.co.kr  \n",
       "3    Corky@inven.co.kr  \n",
       "4    Corky@inven.co.kr  \n",
       "..                 ...  \n",
       "395  Ruudi@inven.co.kr  \n",
       "396  Ruudi@inven.co.kr  \n",
       "397  Ruudi@inven.co.kr  \n",
       "398  Ruudi@inven.co.kr  \n",
       "399  Ruudi@inven.co.kr  \n",
       "\n",
       "[400 rows x 6 columns]"
      ]
     },
     "execution_count": 28,
     "metadata": {},
     "output_type": "execute_result"
    }
   ],
   "source": [
    "news = pd.read_csv('news_data (1).csv')\n",
    "news"
   ]
  },
  {
   "cell_type": "code",
   "execution_count": 48,
   "id": "af086609",
   "metadata": {
    "scrolled": true
   },
   "outputs": [],
   "source": [
    "# for i in range(len(news)):\n",
    "#     nt = news.loc[i,'제목']\n",
    "#     nc = news.loc[i,'상세정보']\n",
    "#     nr = news.loc[i,'기자']\n",
    "#     ns = news.loc[i,'이메일']\n",
    "#     nw = news.loc[i,'작성일']\n",
    "#     cursor.execute(f\"INSERT INTO news(n_no, n_title, n_reporter, n_writedate, n_content, n_source) VALUES (news_seq.nextval, '{nt}', '{nc}', '{nr}', '{nw}', '{ns}')\")\n",
    "    \n",
    "# cursor.execute('commit')"
   ]
  },
  {
   "cell_type": "code",
   "execution_count": 49,
   "id": "cf579d9e",
   "metadata": {},
   "outputs": [],
   "source": [
    "import cx_Oracle  # cx_Oracle 모듈을 임포트합니다.\n",
    "import random\n",
    "import string"
   ]
  },
  {
   "cell_type": "code",
   "execution_count": 51,
   "id": "34efa165",
   "metadata": {},
   "outputs": [],
   "source": [
    "# DB의 테이블 + 열 정보\n",
    "table_name = \"news\"\n",
    "clob_col = \"n_content\"\n",
    "\n",
    "# 데이터 삽입 개수 (총 데이터 400개)\n",
    "num_records = 400"
   ]
  },
  {
   "cell_type": "code",
   "execution_count": 53,
   "id": "0ca8664b",
   "metadata": {},
   "outputs": [],
   "source": [
    "for i in range(num_records) : \n",
    "    # 랜덤한 clob데이터 생성 (ex : 2000자)\n",
    "    clob_data = ''.join(random.choices(string.ascii_letters + string.digits, k=2000))"
   ]
  },
  {
   "cell_type": "code",
   "execution_count": 62,
   "id": "30707566",
   "metadata": {},
   "outputs": [],
   "source": [
    "# # 빈 LOB 생성\n",
    "# empty_clob = cursor.var(cx_Oracle.CLOB)\n",
    "# cursor.setinputsizes(empty_clob=empty_clob)\n",
    "# cursor.execute(f\"INSERT INTO {table_name} ({clob_col}) VALUES ({empty_clob}) RETURNING {clob_col} INTO :lob_data\", lob_data=empty_clob)\n",
    "\n",
    "# # 빈 LOB을 가져옴\n",
    "# lob_data = empty_clob.getvalue()"
   ]
  },
  {
   "cell_type": "code",
   "execution_count": 63,
   "id": "c1dd17d4",
   "metadata": {},
   "outputs": [],
   "source": [
    "# # LOB 데이터를 조각화하여 삽입\n",
    "\n",
    "# lob_data = cursor.fetchone()[0]  # 초기화된 LOB 데이터 가져오기\n",
    "# chunk_size = 4000  # 조각 크기를 지정\n",
    "# offset = 1\n",
    "\n",
    "# while offset < len(clob_data):\n",
    "#     lob_data.write(offset, clob_data[offset - 1:offset + chunk_size - 1])\n",
    "#     # LOB 데이터를 조각화하여 삽입\n",
    "#     offset += chunk_size  # 다음 조각으로 이동"
   ]
  },
  {
   "cell_type": "code",
   "execution_count": 71,
   "id": "55b75c91",
   "metadata": {},
   "outputs": [
    {
     "name": "stdout",
     "output_type": "stream",
     "text": [
      "인텔은 현지시간 19일 연례 개발자 행사인 세번째 인텔 이노베이션(Intel Innovation)을 美 캘리포니아주 산호세에서 개최했다고 밝혔다. 인텔은 올해 행사에서 클라이언트, 엣지, 네트워크 및 클라우드에 이르는 모든 워크로드에서 인공지능 접근성을 높이고 사용할 수 있도록 지원하는 다양한 기술을 공개했다.\n",
      "\n",
      "팻 겔싱어(Pat Gelsinger) 인텔 CEO는 “인공지능은 세대교체를 의미한다. 컴퓨팅은 모두를 위한 더 나은 미래의 기반으로서 더욱 중요해지고 있으며, 이는 글로벌 확장 새시대의 서막을 알리는 것”이라며 “또한, 개발자에게 가능성의 한계를 뛰어넘어 세계 최대 난제를 해결하고 지구상의 모든 인류의 삶을 개선할 수 있는 엄청난 사회적 그리고 사업적 기회를 제공한다”고 말했다.\n",
      "\n",
      "겔싱어 CEO는 개발자를 위한 기조연설을 통해 인텔이 하드웨어 제품 전반에 걸쳐 AI 기능을 제공하고 있음을 밝히고 오픈소스 기반 멀티 아키텍처 소프트웨어 솔루션을 통해 AI 기능을 활용하는 방법에 대해 소개했다. 겔싱어 CEO는 “실리콘과 소프트웨어의 마법을 통해 성장하는 경제인 실리코노미(Siliconomy)”를 AI가 견인하고 있다고 강조했다. 현재 실리콘 산업은 약 5,740억 달러 규모로 성장했으며, 현재 8조 달러 가치의 글로벌 기술 경제를 주도하고 있는 산업이다.\n",
      "\n",
      "겔싱어 CEO는 인텔이 발표했던 4년 간 5개 노드 공정을 개발한다는 목표가 차질없이 진행되고 있다고 밝혔다. 더불어, 현재 인텔7 공정으로 이미 대량 양산이 진행 중이고, 인텔4 공정이 제조 준비를 마쳤으며, 인텔3은 올해 말까지 제조 준비를 완료할 예정이라고 밝혔다.\n",
      "\n",
      "더불어, 겔싱어 CEO는 2024년 PC 시장을 공략할 인텔 애로우 레이크(Arrow Lake) 프로세서용 첫 번째 테스트 칩과 인텔20A 웨이퍼를 공개했다. 인텔20A는 후면 전력 공급 기술인 파워비아(PowerVia)와 리본펫(RibbonFET)으로 불리는 새로운 게이트 올 어라운드(GAA) 트랜지스터 디자인이 적용된 최초의 공정이다. 파워비아 및 리본펫을 활용할 두번째 공정인 인텔 18A도 2024년 하반기에 생산 준비를 완료할 전망이다.\n",
      "\n",
      "\n",
      "인텔은 이번 주 발표한 또 하나의 혁신인 유리 기판과 같은 새로운 재료와 새로운 패키징 기술을 통해서 다른 방법으로 무어의 법칙(Moore’s Law)을 이어나간다. 유리 기판은 2030년 이후에도 패키지에 담을 수 있는 트랜지스터의 수를 지속적으로 증가시키며 인공지능과 같은 데이터 집약적이고 높은 성능이 필요한 워크로드 요구사항을 충족시키는 데 도움이 될 것으로 예상된다.\n",
      "\n",
      "인텔은 이날 유니버설 칩렛 인터커넥트 익스프레스(UCIe) 기반 테스트 칩 패키지도 선보였다. 겔싱어 CEO는 개방형 표준이 IP 통합을 보다 용이하게 한다면 무어의 법칙의 다음 단계는 멀티칩렛 패키지와 함께 도래할 것이라고 밝혔다. 지난해 공개된 UCIe 표준은 다양한 공급업체가 제작한 칩렛이 함께 작동할 수 있도록 지원해 다양한 AI 워크로드의 확장을 위한 신규 설계 구현을 가능하도록 한다. 현재 UCIe 표준에는 120개 이상의 기업이 참여하고 있다.\n",
      "\n",
      "인텔이 이날 발표한 테스트칩은 인텔3 기반 인텔 UCIe IP 칩렛과 TSMC N3E 공정 기반 시놉시스(Synopsys) UCIe IP 칩렛을 결합했다. 칩렛은 내장형 멀티다이 인터커넥트 브릿지(EMIB) 첨단 패키징 기술을 사용해 연결했다. 인텔은 기술 시연을 통해 TSMC, 시놉시스 및 인텔 파운드리 서비스(IFS)의 UCIe 기반의 개방형 표준 기반 칩렛 생태계 지원 의지를 강조했다.\n",
      "\n",
      "겔싱어 CEO는 인텔 플랫폼을 통해 개발자들에게 제공되는 다양한 AI 기술을 강조하고, 향후 몇 년 간 더욱 많은 관련 기술을 개발자들에게 제공할 것이라고 밝혔다.\n",
      "\n",
      "최근 공개된 MLPerf AI 추론 성능 결과는 가장 크고 어려운 생성형 AI 및 대규모 언어 모델(LLM)을 포함한 AI 기술의 모든 단계를 지원하기 위한 인텔의 노력을 입증했다. 더불어, 인텔® 가우디®2 가속기가 AI 컴퓨팅 요구사항을 충족할 수 있는 유일한 대안이라는 점을 부각한다. 또한 겔싱어 CEO는 인텔 제온 프로세서와 4천개의 인텔 가우디2 하드웨어 가속기 기반으로 스태빌리티AI(StabilityAI)사를 위해 구축한 대규모 AI 슈퍼컴퓨터를 공개했다.\n",
      "\n",
      "징런 저우(Jingren Zhou) 알리바바 클라우드 최고기술책임자(CTO)는 “생성형 AI 및 LLM인 알리바바 클라우드의 통이 파운데이션 모델(Tongyi Foundation Model)”에 AI 가속기를 탑재한 4세대 인텔® 제온® 프로세서 적용 사례를 소개했다. 그는 인텔 기술을 통해 “평균 3배 빠른1 응답 시간을 달성했다”고 밝혔다.\n",
      "\n",
      "\n",
      "인텔은 이날 5세대 인텔 제온 프로세서를 12월 14일에 출시해 전 세계 데이터 센터에 더욱 향상된 성능과 더욱 빠른 메모리와의 조합을 제공할 것이라고 공개했다. 2024년 상반기 선보일 예정인 E-코어의 효율성을 갖춘 시에라 포레스트(Sierra Forest)는 4세대 제온 프로세서 대비 2.5배 높은 랙 밀도와 2.4배 높은 와트당 성능을 제공하며, 288개 코어2를 갖춘 제품도 공개할 예정이다. 시에라 포레스트와 유사한 시기에 출시 예정인 고성능 P-코어 기반 그래나이트 래피즈(Granite Rapids)는 4세대 제온 프로세서 대비 2~3배 빠른 AI 워크로드 성능을 제공할 것이다.\n",
      "\n",
      "2025년에 출시 예정인 차세대 E-코어 기반 제온 프로세서(코드명 클리어워터 포레스트)는 인텔18A 공정 기반으로 생산할 예정이다.\n",
      "\n",
      "\n",
      "자료제공 - 인텔\n"
     ]
    }
   ],
   "source": [
    "detail_info = news.loc[0, '상세정보']\n",
    "print(detail_info)"
   ]
  },
  {
   "cell_type": "code",
   "execution_count": 77,
   "id": "d47c432d",
   "metadata": {},
   "outputs": [
    {
     "name": "stdout",
     "output_type": "stream",
     "text": [
      "총 글자 수: 2735\n"
     ]
    }
   ],
   "source": [
    "total_characters = len(detail_info)\n",
    "print(f\"총 글자 수: {total_characters}\")"
   ]
  },
  {
   "cell_type": "code",
   "execution_count": 78,
   "id": "bd725523",
   "metadata": {},
   "outputs": [],
   "source": [
    "import cx_Oracle\n",
    "\n",
    "# 데이터베이스 연결 설정\n",
    "connection = cx_Oracle.connect(\"seocho_23SW_CX_siljeon_1/smhrd1@project-db-campus.smhrd.com:1523/xe\")\n",
    "\n",
    "# Cursor 객체 생성\n",
    "cursor = connection.cursor()"
   ]
  },
  {
   "cell_type": "code",
   "execution_count": 79,
   "id": "f2f6da3a",
   "metadata": {},
   "outputs": [
    {
     "ename": "DatabaseError",
     "evalue": "ORA-01861: literal does not match format string",
     "output_type": "error",
     "traceback": [
      "\u001b[1;31m---------------------------------------------------------------------------\u001b[0m",
      "\u001b[1;31mDatabaseError\u001b[0m                             Traceback (most recent call last)",
      "Cell \u001b[1;32mIn[79], line 25\u001b[0m\n\u001b[0;32m     21\u001b[0m sql \u001b[38;5;241m=\u001b[39m \u001b[38;5;124mf\u001b[39m\u001b[38;5;124m\"\u001b[39m\u001b[38;5;124mINSERT INTO news (n_no, n_title, n_reporter, n_writedate, n_content, n_source) \u001b[39m\u001b[38;5;124m\"\u001b[39m \\\n\u001b[0;32m     22\u001b[0m       \u001b[38;5;124mf\u001b[39m\u001b[38;5;124m\"\u001b[39m\u001b[38;5;124mVALUES (news_seq.nextval, :1, :2, :3, :4, :5)\u001b[39m\u001b[38;5;124m\"\u001b[39m\n\u001b[0;32m     24\u001b[0m \u001b[38;5;66;03m# CLOB 데이터 삽입\u001b[39;00m\n\u001b[1;32m---> 25\u001b[0m \u001b[43mcursor\u001b[49m\u001b[38;5;241;43m.\u001b[39;49m\u001b[43mexecute\u001b[49m\u001b[43m(\u001b[49m\u001b[43msql\u001b[49m\u001b[43m,\u001b[49m\u001b[43m \u001b[49m\u001b[43m(\u001b[49m\u001b[43mnt\u001b[49m\u001b[43m,\u001b[49m\u001b[43m \u001b[49m\u001b[43mnr\u001b[49m\u001b[43m,\u001b[49m\u001b[43m \u001b[49m\u001b[43mnw\u001b[49m\u001b[43m,\u001b[49m\u001b[43m \u001b[49m\u001b[43mresult\u001b[49m\u001b[43m,\u001b[49m\u001b[43m \u001b[49m\u001b[43mns\u001b[49m\u001b[43m)\u001b[49m\u001b[43m)\u001b[49m\n",
      "\u001b[1;31mDatabaseError\u001b[0m: ORA-01861: literal does not match format string"
     ]
    }
   ],
   "source": [
    "# cursor.execute(\"SELECT * FROM your_table\")\n",
    "\n",
    "for i in range(len(news)):\n",
    "    content = news.loc[i, '상세정보']\n",
    "    result = \"TO_CLOB('\"\n",
    "    n=0\n",
    "    while True:\n",
    "        result = result + content[n:n+2000] + \"')\"\n",
    "        n += 2000\n",
    "        if len(content[n:]) <= 2000 :\n",
    "            result = result + \"|| TO_CLOB('\" + content[n:] + \"')\"\n",
    "            break\n",
    "        result += \" || TO_CLOB('\"\n",
    "        \n",
    "    nt = news.loc[i,'제목']\n",
    "    nr = news.loc[i,'기자']\n",
    "    ns = news.loc[i,'이메일']\n",
    "    nw = news.loc[i,'작성일']    \n",
    "    \n",
    "    # CLOB 데이터 삽입을 위한 SQL 문장\n",
    "    sql = f\"INSERT INTO news (n_no, n_title, n_reporter, n_writedate, n_content, n_source) \" \\\n",
    "          f\"VALUES (news_seq.nextval, :1, :2, :3, :4, :5)\"\n",
    "\n",
    "    # CLOB 데이터 삽입\n",
    "    cursor.execute(sql, (nt, nr, nw, result, ns))\n",
    "#     cursor.execute(f\"INSERT INTO news VALUES(news_seq.nextval, '{nt}','{nr}','{nw}',{result},0,'{ns}')\")\n",
    "    \n"
   ]
  },
  {
   "cell_type": "code",
   "execution_count": null,
   "id": "c0126f66",
   "metadata": {},
   "outputs": [],
   "source": [
    "# Cursor와 연결 종료\n",
    "\n",
    "cursor.close()\n",
    "connection.close()"
   ]
  }
 ],
 "metadata": {
  "kernelspec": {
   "display_name": "Python 3 (ipykernel)",
   "language": "python",
   "name": "python3"
  },
  "language_info": {
   "codemirror_mode": {
    "name": "ipython",
    "version": 3
   },
   "file_extension": ".py",
   "mimetype": "text/x-python",
   "name": "python",
   "nbconvert_exporter": "python",
   "pygments_lexer": "ipython3",
   "version": "3.10.9"
  }
 },
 "nbformat": 4,
 "nbformat_minor": 5
}
